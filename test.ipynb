{
  "nbformat": 4,
  "nbformat_minor": 0,
  "metadata": {
    "colab": {
      "name": "test.ipynb",
      "provenance": [],
      "authorship_tag": "ABX9TyNzXH21E4n51TQ9E0cQEAYa",
      "include_colab_link": true
    },
    "kernelspec": {
      "name": "python3",
      "display_name": "Python 3"
    },
    "language_info": {
      "name": "python"
    }
  },
  "cells": [
    {
      "cell_type": "markdown",
      "metadata": {
        "id": "view-in-github",
        "colab_type": "text"
      },
      "source": [
        "<a href=\"https://colab.research.google.com/github/chaemin21/2021-Fall/blob/main/test.ipynb\" target=\"_parent\"><img src=\"https://colab.research.google.com/assets/colab-badge.svg\" alt=\"Open In Colab\"/></a>"
      ]
    },
    {
      "cell_type": "markdown",
      "metadata": {
        "id": "iXJ1wjN596tv"
      },
      "source": [
        "변수 (variables), 제어문(syntax), 함수(function)"
      ]
    },
    {
      "cell_type": "code",
      "metadata": {
        "colab": {
          "base_uri": "https://localhost:8080/"
        },
        "id": "S0IFtHJm8S0F",
        "outputId": "3782908c-f233-4bca-8d72-48665f351509"
      },
      "source": [
        "a = 1\n",
        "c = 1.1\n",
        "b = 'hello'\n",
        "d = [1, 'abc', 2.1]\n",
        "\n",
        "# print (a)\n",
        "# print (b)\n",
        "\n",
        "print(type(a))\n",
        "print(type(c))\n",
        "print(type(b))\n",
        "print(type(d))"
      ],
      "execution_count": 5,
      "outputs": [
        {
          "output_type": "stream",
          "name": "stdout",
          "text": [
            "<class 'int'>\n",
            "<class 'float'>\n",
            "<class 'str'>\n",
            "<class 'list'>\n"
          ]
        }
      ]
    }
  ]
}